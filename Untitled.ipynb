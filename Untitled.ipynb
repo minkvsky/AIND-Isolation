{
 "cells": [
  {
   "cell_type": "markdown",
   "metadata": {
    "collapsed": true
   },
   "source": [
    "# 3 agentplayer\n",
    "# different huristics in `sample_players.py`\n",
    "- open_move_score\n",
    "    - how many legal moves are there for player.With this score, palyer will only consider itself. \n",
    "- center_score\n",
    "- improved_score\n",
    "    - the difference between own moves and opponent's moves.With this score, player will consider both.Since legal moves will be less and less with the game going,the difference will generally be less and less too.When the difference is possitive,the ative palyer gets a better situation.\n",
    "\n",
    "# different huristics in `game_agent.py`\n",
    "- custom_score\n",
    "- custom_score_2\n",
    "    - linear commbination of own_moves and opp_moves.\n",
    "    - I have proved this score is same as or opposite completely to improved_score.\n",
    "    - math proof\n",
    "    x is number of ownmoves,\n",
    "    y is number of oppnents' moves.\n",
    "    \n",
    "    $c = x - y,\n",
    "    d = ax - by,a >0$\n",
    "    \n",
    "    $x_{1} - y_{1} < x_{2} -y_{2}  \\Leftrightarrow $\n",
    "    $a(x_{1}-x_{2}) < b(y_{1}-y_{2}) \\Leftrightarrow $\n",
    "    $x_{1} - y_{1} < (b/a) * (x_{2} -y_{2}) $\n",
    "- custom_score_3\n",
    "\n",
    "# Result picture\n",
    "![result of 400 matches](400matches.png)"
   ]
  },
  {
   "cell_type": "code",
   "execution_count": null,
   "metadata": {
    "collapsed": true
   },
   "outputs": [],
   "source": []
  }
 ],
 "metadata": {
  "kernelspec": {
   "display_name": "Python 3",
   "language": "python",
   "name": "python3"
  },
  "language_info": {
   "codemirror_mode": {
    "name": "ipython",
    "version": 3
   },
   "file_extension": ".py",
   "mimetype": "text/x-python",
   "name": "python",
   "nbconvert_exporter": "python",
   "pygments_lexer": "ipython3",
   "version": "3.6.0"
  }
 },
 "nbformat": 4,
 "nbformat_minor": 2
}
