{
 "cells": [
  {
   "cell_type": "markdown",
   "metadata": {},
   "source": [
    "# Goals\n",
    "This  paper  introduces  a  new  technique(min/max approximation) for  searching  in  game  trees,  based  on the  idea  of  approximating  the  min  and  max  operators  with  generalized mean-value  operators.\n",
    "\n",
    "# Techniques\n",
    "## generalized mean values\n",
    "![p-mean of a](images\\p-mean.png)\n",
    "\n",
    "Base on the following two facts,we use $M_{p}(a)$ as approximation to min/max function in minimax algorithm.\n",
    "\n",
    "![twofacts](images\\twofacts.png)\n",
    "\n",
    "$M_{p}(a)$,unlike max or min ,has continuous derivatives with respect to each variable.So they are more suitable for analysis.\n",
    "## game trees searching\n",
    "- game tree\n",
    "    - consider a two-person zero-sum perfect information game\n",
    "- searching a game tree\n",
    "    - heuristic approximations\n",
    "        -  For most interesting games the game tree is so large that heuristic approximations are needed.\n",
    "        - Our proposed technique requires a single static evaluator\n",
    "approximations are needed.\n",
    "    - interactive deepening\n",
    "        - Given a limit on timeout,one can successively compute the backed-up for depths,until one runs out of time,use the move determined by the last search completed.\n",
    "- iteractive search heuristic details\n",
    "    - The general process of partially exploring a game tree by an iterative heuristic:\n",
    "![general process](images\\general_process.png)\n",
    "![formula9](images\\formula9.png)\n",
    "- penalty-based iterative search methods\n",
    "    - the min/max approximation technique here is such a penalty-based scheme: to expand that tip node which has the least penalty.We add  the node's children to the tree,update the estimates,and update the  penalties on the edges.\n",
    "- searching by min/max approximation\n",
    "    - The  \"min/max  approximation\"  heuristic is special case of the  penalty-based search method,where the penalties are defined in terms  of the derivatives of the approximating functions $M_{p}(a)$.\n",
    "\n",
    "# Results：min/max approximation is definitely superior.\n",
    "- The number of distinct position considered by alpha-beta was\n",
    "approximately three times larger than the number of distinct positions  considered by min/max when a timeout was in effect.\n",
    "- Minimax search with alpha-beta pruning called the move operator approximately 3500 times/s,while the min/max heuristic called the move operator approximately 800 times/s.\n",
    "# conclusion\n",
    "This paper provides a novel approach to game tree searching,based  on approximating min/max functions by suitable generalized mean-value functions which outplays alpha-beta with iterative deepening.\n"
   ]
  }
 ],
 "metadata": {
  "kernelspec": {
   "display_name": "Python 3",
   "language": "python",
   "name": "python3"
  },
  "language_info": {
   "codemirror_mode": {
    "name": "ipython",
    "version": 3
   },
   "file_extension": ".py",
   "mimetype": "text/x-python",
   "name": "python",
   "nbconvert_exporter": "python",
   "pygments_lexer": "ipython3",
   "version": "3.6.0"
  }
 },
 "nbformat": 4,
 "nbformat_minor": 2
}
